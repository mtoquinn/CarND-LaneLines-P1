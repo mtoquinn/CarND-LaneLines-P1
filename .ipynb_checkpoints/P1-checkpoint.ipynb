{
 "cells": [
  {
   "cell_type": "markdown",
   "metadata": {},
   "source": [
    "# Self-Driving Car Engineer Nanodegree\n",
    "\n",
    "\n",
    "## Project: **Finding Lane Lines on the Road** \n",
    "***\n",
    "In this project, you will use the tools you learned about in the lesson to identify lane lines on the road.  You can develop your pipeline on a series of individual images, and later apply the result to a video stream (really just a series of images). Check out the video clip \"raw-lines-example.mp4\" (also contained in this repository) to see what the output should look like after using the helper functions below. \n",
    "\n",
    "Once you have a result that looks roughly like \"raw-lines-example.mp4\", you'll need to get creative and try to average and/or extrapolate the line segments you've detected to map out the full extent of the lane lines.  You can see an example of the result you're going for in the video \"P1_example.mp4\".  Ultimately, you would like to draw just one line for the left side of the lane, and one for the right.\n",
    "\n",
    "In addition to implementing code, there is a brief writeup to complete. The writeup should be completed in a separate file, which can be either a markdown file or a pdf document. There is a [write up template](https://github.com/udacity/CarND-LaneLines-P1/blob/master/writeup_template.md) that can be used to guide the writing process. Completing both the code in the Ipython notebook and the writeup template will cover all of the [rubric points](https://review.udacity.com/#!/rubrics/322/view) for this project.\n",
    "\n",
    "---\n",
    "Let's have a look at our first image called 'test_images/solidWhiteRight.jpg'.  Run the 2 cells below (hit Shift-Enter or the \"play\" button above) to display the image.\n",
    "\n",
    "**Note: If, at any point, you encounter frozen display windows or other confounding issues, you can always start again with a clean slate by going to the \"Kernel\" menu above and selecting \"Restart & Clear Output\".**\n",
    "\n",
    "---"
   ]
  },
  {
   "cell_type": "markdown",
   "metadata": {},
   "source": [
    "**The tools you have are color selection, region of interest selection, grayscaling, Gaussian smoothing, Canny Edge Detection and Hough Tranform line detection.  You  are also free to explore and try other techniques that were not presented in the lesson.  Your goal is piece together a pipeline to detect the line segments in the image, then average/extrapolate them and draw them onto the image for display (as below).  Once you have a working pipeline, try it out on the video stream below.**\n",
    "\n",
    "---\n",
    "\n",
    "<figure>\n",
    " <img src=\"examples/line-segments-example.jpg\" width=\"380\" alt=\"Combined Image\" />\n",
    " <figcaption>\n",
    " <p></p> \n",
    " <p style=\"text-align: center;\"> Your output should look something like this (above) after detecting line segments using the helper functions below </p> \n",
    " </figcaption>\n",
    "</figure>\n",
    " <p></p> \n",
    "<figure>\n",
    " <img src=\"examples/laneLines_thirdPass.jpg\" width=\"380\" alt=\"Combined Image\" />\n",
    " <figcaption>\n",
    " <p></p> \n",
    " <p style=\"text-align: center;\"> Your goal is to connect/average/extrapolate line segments to get output like this</p> \n",
    " </figcaption>\n",
    "</figure>"
   ]
  },
  {
   "cell_type": "markdown",
   "metadata": {},
   "source": [
    "**Run the cell below to import some packages.  If you get an `import error` for a package you've already installed, try changing your kernel (select the Kernel menu above --> Change Kernel).  Still have problems?  Try relaunching Jupyter Notebook from the terminal prompt.  Also, consult the forums for more troubleshooting tips.**  "
   ]
  },
  {
   "cell_type": "markdown",
   "metadata": {},
   "source": [
    "## Import Packages"
   ]
  },
  {
   "cell_type": "code",
   "execution_count": null,
   "metadata": {},
   "outputs": [],
   "source": [
    "#importing some useful packages\n",
    "import matplotlib.pyplot as plt\n",
    "import matplotlib.image as mpimg\n",
    "import numpy as np\n",
    "import cv2\n",
    "%matplotlib inline"
   ]
  },
  {
   "cell_type": "markdown",
   "metadata": {},
   "source": [
    "## Read in an Image"
   ]
  },
  {
   "cell_type": "code",
   "execution_count": null,
   "metadata": {},
   "outputs": [],
   "source": [
    "#reading in an image\n",
    "image = mpimg.imread('test_images/solidWhiteRight.jpg')\n",
    "\n",
    "#printing out some stats and plotting\n",
    "print('This image is:', type(image), 'with dimensions:', image.shape)\n",
    "plt.imshow(image)  # if you wanted to show a single color channel image called 'gray', for example, call as plt.imshow(gray, cmap='gray')"
   ]
  },
  {
   "cell_type": "markdown",
   "metadata": {},
   "source": [
    "## Ideas for Lane Detection Pipeline"
   ]
  },
  {
   "cell_type": "markdown",
   "metadata": {},
   "source": [
    "**Some OpenCV functions (beyond those introduced in the lesson) that might be useful for this project are:**\n",
    "\n",
    "`cv2.inRange()` for color selection  \n",
    "`cv2.fillPoly()` for regions selection  \n",
    "`cv2.line()` to draw lines on an image given endpoints  \n",
    "`cv2.addWeighted()` to coadd / overlay two images\n",
    "`cv2.cvtColor()` to grayscale or change color\n",
    "`cv2.imwrite()` to output images to file  \n",
    "`cv2.bitwise_and()` to apply a mask to an image\n",
    "\n",
    "**Check out the OpenCV documentation to learn about these and discover even more awesome functionality!**"
   ]
  },
  {
   "cell_type": "markdown",
   "metadata": {},
   "source": [
    "## Helper Functions"
   ]
  },
  {
   "cell_type": "markdown",
   "metadata": {},
   "source": [
    "Below are some helper functions to help get you started. They should look familiar from the lesson!"
   ]
  },
  {
   "cell_type": "code",
   "execution_count": 278,
   "metadata": {},
   "outputs": [],
   "source": [
    "import math\n",
    "import statistics\n",
    "\n",
    "def midpoint(point1, point2):\n",
    "    x_mid = (point1[0] + point2[0])/2\n",
    "    y_mid = (point1[1] + point2[1])/2\n",
    "    return (int(x_mid), int(y_mid))\n",
    "\n",
    "def grayscale(img):\n",
    "    \"\"\"Applies the Grayscale transform\n",
    "    This will return an image with only one color channel\n",
    "    but NOTE: to see the returned image as grayscale\n",
    "    (assuming your grayscaled image is called 'gray')\n",
    "    you should call plt.imshow(gray, cmap='gray')\"\"\"\n",
    "    return cv2.cvtColor(img, cv2.COLOR_RGB2GRAY)\n",
    "    # Or use BGR2GRAY if you read an image with cv2.imread()\n",
    "    # return cv2.cvtColor(img, cv2.COLOR_BGR2GRAY)\n",
    "    \n",
    "def canny(img, low_threshold, high_threshold):\n",
    "    \"\"\"Applies the Canny transform\"\"\"\n",
    "    return cv2.Canny(img, low_threshold, high_threshold)\n",
    "\n",
    "def gaussian_blur(img, kernel_size):\n",
    "    \"\"\"Applies a Gaussian Noise kernel\"\"\"\n",
    "    return cv2.GaussianBlur(img, (kernel_size, kernel_size), 0)\n",
    "\n",
    "def region_of_interest(img, vertices):\n",
    "    \"\"\"\n",
    "    Applies an image mask.\n",
    "    \n",
    "    Only keeps the region of the image defined by the polygon\n",
    "    formed from `vertices`. The rest of the image is set to black.\n",
    "    `vertices` should be a numpy array of integer points.\n",
    "    \"\"\"\n",
    "    #defining a blank mask to start with\n",
    "    mask = np.zeros_like(img)   \n",
    "    \n",
    "    #defining a 3 channel or 1 channel color to fill the mask with depending on the input image\n",
    "    if len(img.shape) > 2:\n",
    "        channel_count = img.shape[2]  # i.e. 3 or 4 depending on your image\n",
    "        ignore_mask_color = (255,) * channel_count\n",
    "    else:\n",
    "        ignore_mask_color = 255\n",
    "        \n",
    "    #filling pixels inside the polygon defined by \"vertices\" with the fill color    \n",
    "    cv2.fillPoly(mask, vertices, ignore_mask_color)\n",
    "    \n",
    "    #returning the image only where mask pixels are nonzero\n",
    "    masked_image = cv2.bitwise_and(img, mask)\n",
    "    return masked_image\n",
    "\n",
    "\n",
    "def draw_lines(img, lines, vertices, color=[255, 0, 0], thickness=8):\n",
    "    \"\"\"\n",
    "    NOTE: this is the function you might want to use as a starting point once you want to \n",
    "    average/extrapolate the line segments you detect to map out the full\n",
    "    extent of the lane (going from the result shown in raw-lines-example.mp4\n",
    "    to that shown in P1_example.mp4).  \n",
    "    \n",
    "    Think about things like separating line segments by their \n",
    "    slope ((y2-y1)/(x2-x1)) to decide which segments are part of the left\n",
    "    line vs. the right line.  Then, you can average the position of each of \n",
    "    the lines and extrapolate to the top and bottom of the lane.\n",
    "    \n",
    "    This function draws `lines` with `color` and `thickness`.    \n",
    "    Lines are drawn on the image inplace (mutates the image).\n",
    "    If you want to make the lines semi-transparent, think about combining\n",
    "    this function with the weighted_img() function below\n",
    "    \"\"\"\n",
    "    imshape = img.shape\n",
    "    left_slopes = []\n",
    "    right_slopes = []\n",
    "    left_pts = []\n",
    "    right_pts = []\n",
    "    mask_midpt = int((vertices[0][0][0] + vertices[0][3][0])/2)\n",
    "    mask_topY = vertices[0][1][1]\n",
    "    \n",
    "    for line in lines:\n",
    "        #print(line)\n",
    "        for x1,y1,x2,y2 in line:\n",
    "            slope = ((y2-y1)/(x2-x1))\n",
    "            if (x1 < mask_midpt and x2 < mask_midpt):\n",
    "                left_pts.append((x1, y1))\n",
    "                left_pts.append((x2, y2))\n",
    "                left_slopes.append(slope)\n",
    "            else:\n",
    "                right_pts.append((x1, y1))\n",
    "                right_pts.append((x2, y2))\n",
    "                right_slopes.append(slope)\n",
    "    \n",
    "    avg_left_slope = statistics.median(left_slopes)\n",
    "    avg_right_slope = statistics.median(right_slopes)\n",
    "    #avg_left_slope = sum(left_slopes)/len(left_slopes)\n",
    "    #avg_right_slope = sum(right_slopes)/len(right_slopes)\n",
    "    \n",
    "    left_pts_sorted = sorted(left_pts, key=lambda x:x[1], reverse=True)\n",
    "    right_pts_sorted = sorted(right_pts, key=lambda x:x[1], reverse=True)\n",
    "    \n",
    "    left_bot_pts = [left_pts_sorted[i] for i in range(len(left_pts_sorted)) if i >= int(len(left_pts_sorted)/2)]\n",
    "    left_top_pts = [left_pts_sorted[i] for i in range(len(left_pts_sorted)) if i < int(len(left_pts_sorted)/2)]\n",
    "    right_bot_pts = [right_pts_sorted[i] for i in range(len(right_pts_sorted)) if i >= int(len(right_pts_sorted)/2)]\n",
    "    right_top_pts = [right_pts_sorted[i] for i in range(len(right_pts_sorted)) if i < int(len(right_pts_sorted)/2)]\n",
    "    \n",
    "    #previously utilized just the midpts\n",
    "    left_midpt = (int(sum(x for x,y in left_pts_sorted)/len(left_pts_sorted)), int(sum(y for x,y in left_pts_sorted)/len(left_pts_sorted)))\n",
    "    right_midpt = (int(sum(x for x,y in right_pts_sorted)/len(right_pts_sorted)), int(sum(y for x,y in right_pts_sorted)/len(right_pts_sorted)))\n",
    "    left_midpt_bot = (int(sum(x for x,y in left_bot_pts)/len(left_bot_pts)), int(sum(y for x,y in left_bot_pts)/len(left_bot_pts)))\n",
    "    left_midpt_top = (int(sum(x for x,y in left_top_pts)/len(left_top_pts)), int(sum(y for x,y in left_top_pts)/len(left_top_pts)))\n",
    "    right_midpt_bot = (int(sum(x for x,y in right_bot_pts)/len(right_bot_pts)), int(sum(y for x,y in right_bot_pts)/len(right_bot_pts)))\n",
    "    right_midpt_top = (int(sum(x for x,y in right_top_pts)/len(right_top_pts)), int(sum(y for x,y in right_top_pts)/len(right_top_pts)))\n",
    "    \n",
    "    left_bot_x = int(((imshape[0] - left_midpt_bot[1])/avg_left_slope) + left_midpt_bot[0])\n",
    "    left_top_x = int(((mask_topY - left_midpt_top[1])/avg_left_slope) + left_midpt_top[0])\n",
    "    right_bot_x = int(((imshape[0] - right_midpt_bot[1])/avg_right_slope) + right_midpt_bot[0])\n",
    "    right_top_x = int(((mask_topY - right_midpt_top[1])/avg_right_slope) + right_midpt_top[0])\n",
    "    \n",
    "    cv2.line(img, (left_bot_x, imshape[0]), left_midpt_bot, color, thickness)\n",
    "    cv2.line(img, left_midpt_bot, left_midpt, color, thickness)\n",
    "    cv2.line(img, left_midpt, left_midpt_top, color, thickness)\n",
    "    cv2.line(img, left_midpt_top, (left_top_x, mask_topY), color, thickness)\n",
    "    cv2.line(img, (right_bot_x, imshape[0]), right_midpt_bot, color, thickness)\n",
    "    cv2.line(img, right_midpt_bot, right_midpt, color, thickness)\n",
    "    cv2.line(img, right_midpt, right_midpt_top, color, thickness)\n",
    "    cv2.line(img, right_midpt_top, (right_top_x, mask_topY), color, thickness)\n",
    "    \n",
    "    #previous implementation\n",
    "    #left_bot_x = int(((imshape[0] - left_midpt[1])/avg_left_slope) + left_midpt[0])\n",
    "    #left_top_x = int(((mask_topY - left_midpt[1])/avg_left_slope) + left_midpt[0])\n",
    "    #right_bot_x = int(((imshape[0] - right_midpt[1])/avg_right_slope) + right_midpt[0])\n",
    "    #right_top_x = int(((mask_topY - right_midpt[1])/avg_right_slope) + right_midpt[0])\n",
    "    #cv2.line(img, (left_bot_x, imshape[0]), left_midpt, color, thickness)\n",
    "    #cv2.line(img, left_midpt, (left_top_x, mask_topY), color, thickness)\n",
    "    #cv2.line(img, (right_bot_x, imshape[0]), right_midpt, color, thickness)\n",
    "    #cv2.line(img, right_midpt, (right_top_x, mask_topY), color, thickness)\n",
    "    \n",
    "    #neg_pts_sorted = sorted(neg_points, key=lambda x:x[1], reverse=True)\n",
    "    #pos_pts_sorted = sorted(pos_points, key=lambda x:x[1], reverse=True)\n",
    "    #print(pos_pts_sorted)\n",
    "    #print(len(pos_pts_sorted)/2)\n",
    "    '''\n",
    "    neg_mid_y = int((min(neg_pts_sorted)[1] + max(neg_pts_sorted)[1])/2)\n",
    "    neg_pts_top = [neg_pts_sorted[i] for i in range(len(neg_pts_sorted)) if neg_pts_sorted[i][1] < neg_mid_y]\n",
    "    neg_pts_bot = [neg_pts_sorted[i] for i in range(len(neg_pts_sorted)) if neg_pts_sorted[i][1] > neg_mid_y]\n",
    "    neg_midpt_bot = (int((sum(x for x,y in neg_pts_bot)/len(neg_pts_bot))), int((sum(y for x,y in neg_pts_bot)/len(neg_pts_bot))))\n",
    "    neg_midpt_top = (int((sum(x for x,y in neg_pts_top)/len(neg_pts_top))), int((sum(y for x,y in neg_pts_top)/len(neg_pts_top))))\n",
    "    neg_pt_bot_x = int(((imshape[0] - neg_midpt_bot[1])/avg_neg_slope) + neg_midpt_bot[0])\n",
    "    neg_pt_top_x = int(((mask_top_y - neg_midpt_top[1])/avg_neg_slope) + neg_midpt_top[0])\n",
    "    \n",
    "    if (len(pos_pts_sorted) >= 6):\n",
    "        pos_mid_y_index = int(len(pos_pts_sorted)/2)\n",
    "        pos_mid_x = int(sum(x for x,y in pos_pts_sorted)/len(pos_pts_sorted))\n",
    "        #print(pos_mid_y_index)\n",
    "        pos_pts_top = [pos_pts_sorted[i] for i in range(len(pos_pts_sorted)) if i > (pos_mid_y_index + 1) and pos_pts_sorted[i][0] < pos_mid_x]\n",
    "        pos_pts_bot = [pos_pts_sorted[i] for i in range(len(pos_pts_sorted)) if i < pos_mid_y_index and pos_pts_sorted[i][0] > pos_mid_x]\n",
    "        #pos_mid_y = int((min(pos_pts_sorted)[1] + max(pos_pts_sorted)[1])/2)\n",
    "    else:\n",
    "        pos_mid_y = int(sum(y for x,y in pos_pts_sorted)/len(pos_pts_sorted))\n",
    "        print(pos_mid_y)\n",
    "        pos_pts_top = [pos_pts_sorted[i] for i in range(len(pos_pts_sorted)) if pos_pts_sorted[i][1] < pos_mid_y]\n",
    "        pos_pts_bot = [pos_pts_sorted[i] for i in range(len(pos_pts_sorted)) if pos_pts_sorted[i][1] > pos_mid_y]\n",
    "        print(pos_pts_top)\n",
    "        print(pos_pts_bot)\n",
    "        \n",
    "    pos_midpt_bot = (int((sum(x for x,y in pos_pts_bot)/len(pos_pts_bot))), int((sum(y for x,y in pos_pts_bot)/len(pos_pts_bot))))\n",
    "    pos_midpt_top = (int((sum(x for x,y in pos_pts_top)/len(pos_pts_top))), int((sum(y for x,y in pos_pts_top)/len(pos_pts_top))))\n",
    "    pos_pt_bot_x = int(((imshape[0] - pos_midpt_bot[1])/avg_pos_slope) + pos_midpt_bot[0])\n",
    "    pos_pt_top_x = int(((mask_top_y - pos_midpt_top[1])/avg_pos_slope) + pos_midpt_top[0])\n",
    "    '''\n",
    "    #cv2.line(img, (neg_pt_bot_x, imshape[0]), (neg_pt_top_x, mask_top_y), color, thickness)\n",
    "    #cv2.line(img, (pos_pt_bot_x, imshape[0]), (pos_pt_top_x, mask_top_y), color, thickness)\n",
    "    #cv2.line(img, (neg_pt_bot_x, imshape[0]), neg_midpt_bot, color, thickness)\n",
    "    #cv2.line(img, neg_midpt_bot, neg_midpt_top, color, thickness)\n",
    "    #cv2.line(img, neg_midpt_top, (neg_pt_top_x, mask_top_y), color, thickness)\n",
    "    \n",
    "    #cv2.line(img, (pos_pt_bot_x, imshape[0]), pos_midpt_bot, color, thickness)\n",
    "    #cv2.line(img, pos_midpt_bot, pos_midpt_top, color, thickness)\n",
    "    #cv2.line(img, pos_midpt_top, (pos_pt_top_x, mask_top_y), color, thickness)\n",
    "\n",
    "    \n",
    "def hough_lines(img, rho, theta, threshold, min_line_len, max_line_gap, mask_top_y):\n",
    "    \"\"\"\n",
    "    `img` should be the output of a Canny transform.\n",
    "        \n",
    "    Returns an image with hough lines drawn.\n",
    "    \"\"\"\n",
    "    lines = cv2.HoughLinesP(img, rho, theta, threshold, np.array([]), minLineLength=min_line_len, maxLineGap=max_line_gap)\n",
    "    line_img = np.zeros((img.shape[0], img.shape[1], 3), dtype=np.uint8)\n",
    "    draw_lines(line_img, lines, mask_top_y)\n",
    "    return line_img\n",
    "\n",
    "# Python 3 has support for cool math symbols.\n",
    "\n",
    "def weighted_img(img, initial_img, α=0.8, β=1., γ=0.):\n",
    "    \"\"\"\n",
    "    `img` is the output of the hough_lines(), An image with lines drawn on it.\n",
    "    Should be a blank image (all black) with lines drawn on it.\n",
    "    \n",
    "    `initial_img` should be the image before any processing.\n",
    "    \n",
    "    The result image is computed as follows:\n",
    "    \n",
    "    initial_img * α + img * β + γ\n",
    "    NOTE: initial_img and img must be the same shape!\n",
    "    \"\"\"\n",
    "    return cv2.addWeighted(initial_img, α, img, β, γ)"
   ]
  },
  {
   "cell_type": "markdown",
   "metadata": {},
   "source": [
    "## Test Images\n",
    "\n",
    "Build your pipeline to work on the images in the directory \"test_images\"  \n",
    "**You should make sure your pipeline works well on these images before you try the videos.**"
   ]
  },
  {
   "cell_type": "code",
   "execution_count": 177,
   "metadata": {},
   "outputs": [
    {
     "data": {
      "text/plain": [
       "['solidWhiteCurve.jpg',\n",
       " 'whiteCarLaneSwitch.jpg',\n",
       " 'solidWhiteRight.jpg',\n",
       " 'solidYellowCurve.jpg',\n",
       " 'solidYellowCurve2.jpg',\n",
       " 'solidYellowLeft.jpg']"
      ]
     },
     "execution_count": 177,
     "metadata": {},
     "output_type": "execute_result"
    }
   ],
   "source": [
    "import os\n",
    "os.listdir(\"test_images/\")"
   ]
  },
  {
   "cell_type": "markdown",
   "metadata": {},
   "source": [
    "## Build a Lane Finding Pipeline\n",
    "\n"
   ]
  },
  {
   "cell_type": "markdown",
   "metadata": {},
   "source": [
    "Build the pipeline and run your solution on all test_images. Make copies into the `test_images_output` directory, and you can use the images in your writeup report.\n",
    "\n",
    "Try tuning the various parameters, especially the low and high Canny thresholds as well as the Hough lines parameters."
   ]
  },
  {
   "cell_type": "code",
   "execution_count": 279,
   "metadata": {
    "scrolled": true
   },
   "outputs": [
    {
     "data": {
      "image/png": "[encoded data removed]",
      "text/plain": [
       "<matplotlib.figure.Figure at 0x7f6dd1b2cd30>"
      ]
     },
     "metadata": {
      "needs_background": "light"
     },
     "output_type": "display_data"
    }
   ],
   "source": [
    "# TODO: Build your pipeline that will draw lane lines on the test_images\n",
    "# then save them to the test_images_output directory.\n",
    "\n",
    "images = ['solidWhiteCurve.jpg']\n",
    "#images = ['solidYellowLeft.jpg']\n",
    "\n",
    "#for img in os.listdir(\"test_images/\"):\n",
    "for img in images:\n",
    "    \n",
    "    #reading in an image\n",
    "    image = mpimg.imread('test_images/'+img)\n",
    "\n",
    "    #grayscale the image\n",
    "    gray = grayscale(image)\n",
    "\n",
    "    #apply gaussian blurring\n",
    "    blur_gray = gaussian_blur(gray, 7)\n",
    "\n",
    "    #apply Canny\n",
    "    edges = canny(blur_gray, 50, 150)\n",
    "\n",
    "    #create mask\n",
    "    imshape = image.shape\n",
    "    vertices = np.array([[(125, imshape[0]), (450, 325), (550, 325), (900, imshape[0])]], dtype=np.int32)\n",
    "    masked_image = region_of_interest(edges, vertices)\n",
    "    #plt.imshow(masked_image, cmap='gray')\n",
    "\n",
    "    #Hough Transform\n",
    "    rho = 1\n",
    "    theta = (np.pi/180)\n",
    "    threshold = 15\n",
    "    min_line_len = 40\n",
    "    max_line_gap = 140\n",
    "\n",
    "    lines = hough_lines(masked_image, rho, theta, threshold, min_line_len, max_line_gap, vertices)\n",
    "    #plt.imshow(lines, cmap='gray')\n",
    "    \n",
    "    color_edges = np.dstack((masked_image, masked_image, masked_image))\n",
    "    lines_image = weighted_img(lines, color_edges)\n",
    "    #lines_image = weighted_img(lines, image)\n",
    "    plt.imshow(lines_image, cmap='gray')\n",
    "\n",
    "    #output the images\n",
    "    #mpimg.imsave('test_images_output/'+img, lines_image)\n"
   ]
  },
  {
   "cell_type": "markdown",
   "metadata": {},
   "source": [
    "## Test on Videos\n",
    "\n",
    "You know what's cooler than drawing lanes over images? Drawing lanes over video!\n",
    "\n",
    "We can test our solution on two provided videos:\n",
    "\n",
    "`solidWhiteRight.mp4`\n",
    "\n",
    "`solidYellowLeft.mp4`\n",
    "\n",
    "**Note: if you get an import error when you run the next cell, try changing your kernel (select the Kernel menu above --> Change Kernel). Still have problems? Try relaunching Jupyter Notebook from the terminal prompt. Also, consult the forums for more troubleshooting tips.**\n",
    "\n",
    "**If you get an error that looks like this:**\n",
    "```\n",
    "NeedDownloadError: Need ffmpeg exe. \n",
    "You can download it by calling: \n",
    "imageio.plugins.ffmpeg.download()\n",
    "```\n",
    "**Follow the instructions in the error message and check out [this forum post](https://discussions.udacity.com/t/project-error-of-test-on-videos/274082) for more troubleshooting tips across operating systems.**"
   ]
  },
  {
   "cell_type": "code",
   "execution_count": 179,
   "metadata": {},
   "outputs": [],
   "source": [
    "# Import everything needed to edit/save/watch video clips\n",
    "from moviepy.editor import VideoFileClip\n",
    "from IPython.display import HTML"
   ]
  },
  {
   "cell_type": "code",
   "execution_count": 280,
   "metadata": {},
   "outputs": [],
   "source": [
    "def process_image(image):\n",
    "    # NOTE: The output you return should be a color image (3 channel) for processing video below\n",
    "    # TODO: put your pipeline here,\n",
    "    # you should return the final output (image where lines are drawn on lanes)\n",
    "\n",
    "    #grayscale the image\n",
    "    gray = grayscale(image)\n",
    "\n",
    "    #apply gaussian blurring\n",
    "    blur_gray = gaussian_blur(gray, 7)\n",
    "\n",
    "    #apply Canny\n",
    "    edges = canny(blur_gray, 50, 150)\n",
    "\n",
    "    #create mask\n",
    "    imshape = image.shape\n",
    "    vertices = np.array([[(125, imshape[0]), (450, 325), (550, 325), (900, imshape[0])]], dtype=np.int32)\n",
    "    masked_image = region_of_interest(edges, vertices)\n",
    "\n",
    "    #Hough Transform\n",
    "    rho = 1\n",
    "    theta = (np.pi/180)\n",
    "    threshold = 15\n",
    "    min_line_len = 40\n",
    "    max_line_gap = 140\n",
    "\n",
    "    lines = hough_lines(masked_image, rho, theta, threshold, min_line_len, max_line_gap, vertices)\n",
    "    lines_image = weighted_img(lines, image)\n",
    "    \n",
    "    return lines_image #result"
   ]
  },
  {
   "cell_type": "markdown",
   "metadata": {},
   "source": [
    "Let's try the one with the solid white lane on the right first ..."
   ]
  },
  {
   "cell_type": "code",
   "execution_count": 281,
   "metadata": {
    "scrolled": true
   },
   "outputs": [
    {
     "name": "stdout",
     "output_type": "stream",
     "text": [
      "[MoviePy] >>>> Building video test_videos_output/solidWhiteRight.mp4\n",
      "[MoviePy] Writing video test_videos_output/solidWhiteRight.mp4\n"
     ]
    },
    {
     "name": "stderr",
     "output_type": "stream",
     "text": [
      "\n",
      "  0%|          | 0/222 [00:00<?, ?it/s]\u001b[A\n",
      "  2%|▏         | 5/222 [00:00<00:05, 42.28it/s]\u001b[A\n",
      "  5%|▍         | 10/222 [00:00<00:04, 43.41it/s]\u001b[A\n",
      "  7%|▋         | 15/222 [00:00<00:04, 43.97it/s]\u001b[A\n",
      "  9%|▉         | 20/222 [00:00<00:04, 44.70it/s]\u001b[A\n",
      " 11%|█▏        | 25/222 [00:00<00:04, 44.95it/s]\u001b[A\n",
      " 14%|█▎        | 30/222 [00:00<00:04, 44.90it/s]\u001b[A\n",
      " 16%|█▌        | 35/222 [00:00<00:04, 45.49it/s]\u001b[A\n",
      " 18%|█▊        | 40/222 [00:00<00:04, 45.38it/s]\u001b[A\n",
      " 20%|██        | 45/222 [00:01<00:06, 27.61it/s]\u001b[A\n",
      " 22%|██▏       | 49/222 [00:01<00:07, 22.14it/s]\u001b[A\n",
      " 23%|██▎       | 52/222 [00:01<00:08, 19.22it/s]\u001b[A\n",
      " 25%|██▍       | 55/222 [00:01<00:09, 18.31it/s]\u001b[A\n",
      " 26%|██▌       | 58/222 [00:02<00:09, 16.62it/s]\u001b[A\n",
      " 27%|██▋       | 60/222 [00:02<00:09, 16.26it/s]\u001b[A\n",
      " 28%|██▊       | 62/222 [00:02<00:10, 15.81it/s]\u001b[A\n",
      " 29%|██▉       | 64/222 [00:02<00:10, 15.06it/s]\u001b[A\n",
      " 30%|██▉       | 66/222 [00:02<00:10, 15.21it/s]\u001b[A\n",
      " 31%|███       | 68/222 [00:02<00:10, 15.37it/s]\u001b[A\n",
      " 32%|███▏      | 70/222 [00:02<00:09, 15.43it/s]\u001b[A\n",
      " 32%|███▏      | 72/222 [00:03<00:09, 15.39it/s]\u001b[A\n",
      " 33%|███▎      | 74/222 [00:03<00:11, 13.20it/s]\u001b[A\n",
      " 34%|███▍      | 76/222 [00:03<00:10, 13.88it/s]\u001b[A\n",
      " 35%|███▌      | 78/222 [00:03<00:10, 14.32it/s]\u001b[A\n",
      " 36%|███▌      | 80/222 [00:03<00:09, 14.22it/s]\u001b[A\n",
      " 37%|███▋      | 82/222 [00:03<00:09, 14.54it/s]\u001b[A\n",
      " 38%|███▊      | 84/222 [00:03<00:09, 14.83it/s]\u001b[A\n",
      " 39%|███▊      | 86/222 [00:04<00:09, 14.97it/s]\u001b[A\n",
      " 40%|███▉      | 88/222 [00:04<00:08, 15.10it/s]\u001b[A\n",
      " 41%|████      | 90/222 [00:04<00:08, 15.17it/s]\u001b[A\n",
      " 41%|████▏     | 92/222 [00:04<00:08, 15.33it/s]\u001b[A\n",
      " 42%|████▏     | 94/222 [00:04<00:08, 15.55it/s]\u001b[A\n",
      " 43%|████▎     | 96/222 [00:04<00:08, 15.52it/s]\u001b[A\n",
      " 44%|████▍     | 98/222 [00:04<00:08, 15.43it/s]\u001b[A\n",
      " 45%|████▌     | 100/222 [00:04<00:07, 15.45it/s]\u001b[A\n",
      " 46%|████▌     | 102/222 [00:05<00:07, 15.75it/s]\u001b[A\n",
      " 47%|████▋     | 104/222 [00:05<00:07, 14.87it/s]\u001b[A\n",
      " 48%|████▊     | 106/222 [00:05<00:07, 15.22it/s]\u001b[A\n",
      " 49%|████▊     | 108/222 [00:05<00:07, 15.20it/s]\u001b[A\n",
      " 50%|████▉     | 110/222 [00:05<00:07, 14.66it/s]\u001b[A\n",
      " 50%|█████     | 112/222 [00:05<00:07, 14.81it/s]\u001b[A\n",
      " 51%|█████▏    | 114/222 [00:05<00:07, 15.08it/s]\u001b[A\n",
      " 52%|█████▏    | 116/222 [00:05<00:06, 15.24it/s]\u001b[A\n",
      " 53%|█████▎    | 118/222 [00:06<00:06, 15.19it/s]\u001b[A\n",
      " 54%|█████▍    | 120/222 [00:06<00:06, 15.12it/s]\u001b[A\n",
      " 55%|█████▍    | 122/222 [00:06<00:06, 15.25it/s]\u001b[A\n",
      " 56%|█████▌    | 124/222 [00:06<00:06, 15.40it/s]\u001b[A\n",
      " 57%|█████▋    | 126/222 [00:06<00:06, 15.50it/s]\u001b[A\n",
      " 58%|█████▊    | 128/222 [00:06<00:06, 15.53it/s]\u001b[A\n",
      " 59%|█████▊    | 130/222 [00:06<00:05, 15.60it/s]\u001b[A\n",
      " 59%|█████▉    | 132/222 [00:07<00:05, 15.17it/s]\u001b[A\n",
      " 60%|██████    | 134/222 [00:07<00:05, 14.72it/s]\u001b[A\n",
      " 61%|██████▏   | 136/222 [00:07<00:05, 14.58it/s]\u001b[A\n",
      " 62%|██████▏   | 138/222 [00:07<00:05, 14.82it/s]\u001b[A\n",
      " 63%|██████▎   | 140/222 [00:07<00:05, 14.46it/s]\u001b[A\n",
      " 64%|██████▍   | 142/222 [00:07<00:05, 14.37it/s]\u001b[A\n",
      " 65%|██████▍   | 144/222 [00:07<00:05, 14.27it/s]\u001b[A\n",
      " 66%|██████▌   | 146/222 [00:08<00:05, 14.12it/s]\u001b[A\n",
      " 67%|██████▋   | 148/222 [00:08<00:05, 14.38it/s]\u001b[A\n",
      " 68%|██████▊   | 150/222 [00:08<00:04, 14.72it/s]\u001b[A\n",
      " 68%|██████▊   | 152/222 [00:08<00:04, 14.59it/s]\u001b[A\n",
      " 69%|██████▉   | 154/222 [00:08<00:04, 14.84it/s]\u001b[A\n",
      " 70%|███████   | 156/222 [00:08<00:04, 14.85it/s]\u001b[A\n",
      " 71%|███████   | 158/222 [00:08<00:04, 14.86it/s]\u001b[A\n",
      " 72%|███████▏  | 160/222 [00:08<00:04, 15.07it/s]\u001b[A\n",
      " 73%|███████▎  | 162/222 [00:09<00:04, 14.95it/s]\u001b[A\n",
      " 74%|███████▍  | 164/222 [00:09<00:04, 14.45it/s]\u001b[A\n",
      " 75%|███████▍  | 166/222 [00:09<00:03, 14.78it/s]\u001b[A\n",
      " 76%|███████▌  | 168/222 [00:09<00:03, 14.55it/s]\u001b[A\n",
      " 77%|███████▋  | 170/222 [00:09<00:03, 14.85it/s]\u001b[A\n",
      " 77%|███████▋  | 172/222 [00:09<00:03, 15.02it/s]\u001b[A\n",
      " 78%|███████▊  | 174/222 [00:09<00:03, 15.16it/s]\u001b[A\n",
      " 79%|███████▉  | 176/222 [00:10<00:03, 15.19it/s]\u001b[A\n",
      " 80%|████████  | 178/222 [00:10<00:02, 15.08it/s]\u001b[A\n",
      " 81%|████████  | 180/222 [00:10<00:02, 15.03it/s]\u001b[A\n",
      " 82%|████████▏ | 182/222 [00:10<00:02, 15.06it/s]\u001b[A\n",
      " 83%|████████▎ | 184/222 [00:10<00:02, 14.74it/s]\u001b[A\n",
      " 84%|████████▍ | 186/222 [00:10<00:02, 14.95it/s]\u001b[A\n",
      " 85%|████████▍ | 188/222 [00:10<00:02, 15.04it/s]\u001b[A\n",
      " 86%|████████▌ | 190/222 [00:10<00:02, 15.11it/s]\u001b[A\n",
      " 86%|████████▋ | 192/222 [00:11<00:01, 15.27it/s]\u001b[A\n",
      " 87%|████████▋ | 194/222 [00:11<00:01, 14.76it/s]\u001b[A\n",
      " 88%|████████▊ | 196/222 [00:11<00:01, 14.79it/s]\u001b[A\n",
      " 89%|████████▉ | 198/222 [00:11<00:01, 14.92it/s]\u001b[A\n",
      " 90%|█████████ | 200/222 [00:11<00:01, 15.02it/s]\u001b[A\n",
      " 91%|█████████ | 202/222 [00:11<00:01, 15.09it/s]\u001b[A\n",
      " 92%|█████████▏| 204/222 [00:11<00:01, 14.72it/s]\u001b[A\n",
      " 93%|█████████▎| 206/222 [00:12<00:01, 14.48it/s]\u001b[A\n",
      " 94%|█████████▎| 208/222 [00:12<00:00, 14.77it/s]\u001b[A\n",
      " 95%|█████████▍| 210/222 [00:12<00:00, 14.86it/s]\u001b[A\n",
      " 95%|█████████▌| 212/222 [00:12<00:00, 15.03it/s]\u001b[A\n",
      " 96%|█████████▋| 214/222 [00:12<00:00, 15.47it/s]\u001b[A\n",
      " 97%|█████████▋| 216/222 [00:12<00:00, 14.84it/s]\u001b[A\n",
      " 98%|█████████▊| 218/222 [00:12<00:00, 14.87it/s]\u001b[A\n",
      " 99%|█████████▉| 220/222 [00:12<00:00, 15.02it/s]\u001b[A\n",
      "100%|█████████▉| 221/222 [00:13<00:00, 16.98it/s]\u001b[A"
     ]
    },
    {
     "name": "stdout",
     "output_type": "stream",
     "text": [
      "[MoviePy] Done.\n",
      "[MoviePy] >>>> Video ready: test_videos_output/solidWhiteRight.mp4 \n",
      "\n",
      "CPU times: user 2.62 s, sys: 316 ms, total: 2.93 s\n",
      "Wall time: 14.7 s\n"
     ]
    }
   ],
   "source": [
    "white_output = 'test_videos_output/solidWhiteRight.mp4'\n",
    "## To speed up the testing process you may want to try your pipeline on a shorter subclip of the video\n",
    "## To do so add .subclip(start_second,end_second) to the end of the line below\n",
    "## Where start_second and end_second are integer values representing the start and end of the subclip\n",
    "## You may also uncomment the following line for a subclip of the first 5 seconds\n",
    "#clip1 = VideoFileClip(\"test_videos/solidWhiteRight.mp4\").subclip(8,9)\n",
    "clip1 = VideoFileClip(\"test_videos/solidWhiteRight.mp4\")\n",
    "white_clip = clip1.fl_image(process_image) #NOTE: this function expects color images!!\n",
    "%time white_clip.write_videofile(white_output, audio=False)"
   ]
  },
  {
   "cell_type": "markdown",
   "metadata": {},
   "source": [
    "Play the video inline, or if you prefer find the video in your filesystem (should be in the same directory) and play it in your video player of choice."
   ]
  },
  {
   "cell_type": "code",
   "execution_count": null,
   "metadata": {},
   "outputs": [],
   "source": [
    "HTML(\"\"\"\n",
    "<video width=\"960\" height=\"540\" controls>\n",
    "  <source src=\"{0}\">\n",
    "</video>\n",
    "\"\"\".format(white_output))"
   ]
  },
  {
   "cell_type": "markdown",
   "metadata": {},
   "source": [
    "## Improve the draw_lines() function\n",
    "\n",
    "**At this point, if you were successful with making the pipeline and tuning parameters, you probably have the Hough line segments drawn onto the road, but what about identifying the full extent of the lane and marking it clearly as in the example video (P1_example.mp4)?  Think about defining a line to run the full length of the visible lane based on the line segments you identified with the Hough Transform. As mentioned previously, try to average and/or extrapolate the line segments you've detected to map out the full extent of the lane lines. You can see an example of the result you're going for in the video \"P1_example.mp4\".**\n",
    "\n",
    "**Go back and modify your draw_lines function accordingly and try re-running your pipeline. The new output should draw a single, solid line over the left lane line and a single, solid line over the right lane line. The lines should start from the bottom of the image and extend out to the top of the region of interest.**"
   ]
  },
  {
   "cell_type": "markdown",
   "metadata": {},
   "source": [
    "Now for the one with the solid yellow lane on the left. This one's more tricky!"
   ]
  },
  {
   "cell_type": "code",
   "execution_count": null,
   "metadata": {},
   "outputs": [],
   "source": [
    "yellow_output = 'test_videos_output/solidYellowLeft.mp4'\n",
    "## To speed up the testing process you may want to try your pipeline on a shorter subclip of the video\n",
    "## To do so add .subclip(start_second,end_second) to the end of the line below\n",
    "## Where start_second and end_second are integer values representing the start and end of the subclip\n",
    "## You may also uncomment the following line for a subclip of the first 5 seconds\n",
    "##clip2 = VideoFileClip('test_videos/solidYellowLeft.mp4').subclip(0,5)\n",
    "clip2 = VideoFileClip('test_videos/solidYellowLeft.mp4')\n",
    "yellow_clip = clip2.fl_image(process_image)\n",
    "%time yellow_clip.write_videofile(yellow_output, audio=False)"
   ]
  },
  {
   "cell_type": "code",
   "execution_count": null,
   "metadata": {},
   "outputs": [],
   "source": [
    "HTML(\"\"\"\n",
    "<video width=\"960\" height=\"540\" controls>\n",
    "  <source src=\"{0}\">\n",
    "</video>\n",
    "\"\"\".format(yellow_output))"
   ]
  },
  {
   "cell_type": "markdown",
   "metadata": {},
   "source": [
    "## Writeup and Submission\n",
    "\n",
    "If you're satisfied with your video outputs, it's time to make the report writeup in a pdf or markdown file. Once you have this Ipython notebook ready along with the writeup, it's time to submit for review! Here is a [link](https://github.com/udacity/CarND-LaneLines-P1/blob/master/writeup_template.md) to the writeup template file.\n"
   ]
  },
  {
   "cell_type": "markdown",
   "metadata": {
    "collapsed": true
   },
   "source": [
    "## Optional Challenge\n",
    "\n",
    "Try your lane finding pipeline on the video below.  Does it still work?  Can you figure out a way to make it more robust?  If you're up for the challenge, modify your pipeline so it works with this video and submit it along with the rest of your project!"
   ]
  },
  {
   "cell_type": "code",
   "execution_count": 267,
   "metadata": {},
   "outputs": [
    {
     "name": "stdout",
     "output_type": "stream",
     "text": [
      "[MoviePy] >>>> Building video test_videos_output/challenge.mp4\n",
      "[MoviePy] Writing video test_videos_output/challenge.mp4\n"
     ]
    },
    {
     "name": "stderr",
     "output_type": "stream",
     "text": [
      "\r",
      "  0%|          | 0/251 [00:00<?, ?it/s]"
     ]
    },
    {
     "ename": "OverflowError",
     "evalue": "cannot convert float infinity to integer",
     "output_type": "error",
     "traceback": [
      "\u001b[0;31m---------------------------------------------------------------------------\u001b[0m",
      "\u001b[0;31mOverflowError\u001b[0m                             Traceback (most recent call last)",
      "\u001b[0;32m<timed eval>\u001b[0m in \u001b[0;36m<module>\u001b[0;34m()\u001b[0m\n",
      "\u001b[0;32m<decorator-gen-175>\u001b[0m in \u001b[0;36mwrite_videofile\u001b[0;34m(self, filename, fps, codec, bitrate, audio, audio_fps, preset, audio_nbytes, audio_codec, audio_bitrate, audio_bufsize, temp_audiofile, rewrite_audio, remove_temp, write_logfile, verbose, threads, ffmpeg_params, progress_bar)\u001b[0m\n",
      "\u001b[0;32m/opt/conda/lib/python3.6/site-packages/moviepy/decorators.py\u001b[0m in \u001b[0;36mrequires_duration\u001b[0;34m(f, clip, *a, **k)\u001b[0m\n\u001b[1;32m     52\u001b[0m         \u001b[0;32mraise\u001b[0m \u001b[0mValueError\u001b[0m\u001b[0;34m(\u001b[0m\u001b[0;34m\"Attribute 'duration' not set\"\u001b[0m\u001b[0;34m)\u001b[0m\u001b[0;34m\u001b[0m\u001b[0m\n\u001b[1;32m     53\u001b[0m     \u001b[0;32melse\u001b[0m\u001b[0;34m:\u001b[0m\u001b[0;34m\u001b[0m\u001b[0m\n\u001b[0;32m---> 54\u001b[0;31m         \u001b[0;32mreturn\u001b[0m \u001b[0mf\u001b[0m\u001b[0;34m(\u001b[0m\u001b[0mclip\u001b[0m\u001b[0;34m,\u001b[0m \u001b[0;34m*\u001b[0m\u001b[0ma\u001b[0m\u001b[0;34m,\u001b[0m \u001b[0;34m**\u001b[0m\u001b[0mk\u001b[0m\u001b[0;34m)\u001b[0m\u001b[0;34m\u001b[0m\u001b[0m\n\u001b[0m\u001b[1;32m     55\u001b[0m \u001b[0;34m\u001b[0m\u001b[0m\n\u001b[1;32m     56\u001b[0m \u001b[0;34m\u001b[0m\u001b[0m\n",
      "\u001b[0;32m<decorator-gen-174>\u001b[0m in \u001b[0;36mwrite_videofile\u001b[0;34m(self, filename, fps, codec, bitrate, audio, audio_fps, preset, audio_nbytes, audio_codec, audio_bitrate, audio_bufsize, temp_audiofile, rewrite_audio, remove_temp, write_logfile, verbose, threads, ffmpeg_params, progress_bar)\u001b[0m\n",
      "\u001b[0;32m/opt/conda/lib/python3.6/site-packages/moviepy/decorators.py\u001b[0m in \u001b[0;36muse_clip_fps_by_default\u001b[0;34m(f, clip, *a, **k)\u001b[0m\n\u001b[1;32m    135\u001b[0m              for (k,v) in k.items()}\n\u001b[1;32m    136\u001b[0m \u001b[0;34m\u001b[0m\u001b[0m\n\u001b[0;32m--> 137\u001b[0;31m     \u001b[0;32mreturn\u001b[0m \u001b[0mf\u001b[0m\u001b[0;34m(\u001b[0m\u001b[0mclip\u001b[0m\u001b[0;34m,\u001b[0m \u001b[0;34m*\u001b[0m\u001b[0mnew_a\u001b[0m\u001b[0;34m,\u001b[0m \u001b[0;34m**\u001b[0m\u001b[0mnew_kw\u001b[0m\u001b[0;34m)\u001b[0m\u001b[0;34m\u001b[0m\u001b[0m\n\u001b[0m",
      "\u001b[0;32m<decorator-gen-173>\u001b[0m in \u001b[0;36mwrite_videofile\u001b[0;34m(self, filename, fps, codec, bitrate, audio, audio_fps, preset, audio_nbytes, audio_codec, audio_bitrate, audio_bufsize, temp_audiofile, rewrite_audio, remove_temp, write_logfile, verbose, threads, ffmpeg_params, progress_bar)\u001b[0m\n",
      "\u001b[0;32m/opt/conda/lib/python3.6/site-packages/moviepy/decorators.py\u001b[0m in \u001b[0;36mconvert_masks_to_RGB\u001b[0;34m(f, clip, *a, **k)\u001b[0m\n\u001b[1;32m     20\u001b[0m     \u001b[0;32mif\u001b[0m \u001b[0mclip\u001b[0m\u001b[0;34m.\u001b[0m\u001b[0mismask\u001b[0m\u001b[0;34m:\u001b[0m\u001b[0;34m\u001b[0m\u001b[0m\n\u001b[1;32m     21\u001b[0m         \u001b[0mclip\u001b[0m \u001b[0;34m=\u001b[0m \u001b[0mclip\u001b[0m\u001b[0;34m.\u001b[0m\u001b[0mto_RGB\u001b[0m\u001b[0;34m(\u001b[0m\u001b[0;34m)\u001b[0m\u001b[0;34m\u001b[0m\u001b[0m\n\u001b[0;32m---> 22\u001b[0;31m     \u001b[0;32mreturn\u001b[0m \u001b[0mf\u001b[0m\u001b[0;34m(\u001b[0m\u001b[0mclip\u001b[0m\u001b[0;34m,\u001b[0m \u001b[0;34m*\u001b[0m\u001b[0ma\u001b[0m\u001b[0;34m,\u001b[0m \u001b[0;34m**\u001b[0m\u001b[0mk\u001b[0m\u001b[0;34m)\u001b[0m\u001b[0;34m\u001b[0m\u001b[0m\n\u001b[0m\u001b[1;32m     23\u001b[0m \u001b[0;34m\u001b[0m\u001b[0m\n\u001b[1;32m     24\u001b[0m \u001b[0;34m@\u001b[0m\u001b[0mdecorator\u001b[0m\u001b[0;34m.\u001b[0m\u001b[0mdecorator\u001b[0m\u001b[0;34m\u001b[0m\u001b[0m\n",
      "\u001b[0;32m/opt/conda/lib/python3.6/site-packages/moviepy/video/VideoClip.py\u001b[0m in \u001b[0;36mwrite_videofile\u001b[0;34m(self, filename, fps, codec, bitrate, audio, audio_fps, preset, audio_nbytes, audio_codec, audio_bitrate, audio_bufsize, temp_audiofile, rewrite_audio, remove_temp, write_logfile, verbose, threads, ffmpeg_params, progress_bar)\u001b[0m\n\u001b[1;32m    347\u001b[0m                            \u001b[0mverbose\u001b[0m\u001b[0;34m=\u001b[0m\u001b[0mverbose\u001b[0m\u001b[0;34m,\u001b[0m \u001b[0mthreads\u001b[0m\u001b[0;34m=\u001b[0m\u001b[0mthreads\u001b[0m\u001b[0;34m,\u001b[0m\u001b[0;34m\u001b[0m\u001b[0m\n\u001b[1;32m    348\u001b[0m                            \u001b[0mffmpeg_params\u001b[0m\u001b[0;34m=\u001b[0m\u001b[0mffmpeg_params\u001b[0m\u001b[0;34m,\u001b[0m\u001b[0;34m\u001b[0m\u001b[0m\n\u001b[0;32m--> 349\u001b[0;31m                            progress_bar=progress_bar)\n\u001b[0m\u001b[1;32m    350\u001b[0m \u001b[0;34m\u001b[0m\u001b[0m\n\u001b[1;32m    351\u001b[0m         \u001b[0;32mif\u001b[0m \u001b[0mremove_temp\u001b[0m \u001b[0;32mand\u001b[0m \u001b[0mmake_audio\u001b[0m\u001b[0;34m:\u001b[0m\u001b[0;34m\u001b[0m\u001b[0m\n",
      "\u001b[0;32m/opt/conda/lib/python3.6/site-packages/moviepy/video/io/ffmpeg_writer.py\u001b[0m in \u001b[0;36mffmpeg_write_video\u001b[0;34m(clip, filename, fps, codec, bitrate, preset, withmask, write_logfile, audiofile, verbose, threads, ffmpeg_params, progress_bar)\u001b[0m\n\u001b[1;32m    207\u001b[0m \u001b[0;34m\u001b[0m\u001b[0m\n\u001b[1;32m    208\u001b[0m     for t,frame in clip.iter_frames(progress_bar=progress_bar, with_times=True,\n\u001b[0;32m--> 209\u001b[0;31m                                     fps=fps, dtype=\"uint8\"):\n\u001b[0m\u001b[1;32m    210\u001b[0m         \u001b[0;32mif\u001b[0m \u001b[0mwithmask\u001b[0m\u001b[0;34m:\u001b[0m\u001b[0;34m\u001b[0m\u001b[0m\n\u001b[1;32m    211\u001b[0m             \u001b[0mmask\u001b[0m \u001b[0;34m=\u001b[0m \u001b[0;34m(\u001b[0m\u001b[0;36m255\u001b[0m\u001b[0;34m*\u001b[0m\u001b[0mclip\u001b[0m\u001b[0;34m.\u001b[0m\u001b[0mmask\u001b[0m\u001b[0;34m.\u001b[0m\u001b[0mget_frame\u001b[0m\u001b[0;34m(\u001b[0m\u001b[0mt\u001b[0m\u001b[0;34m)\u001b[0m\u001b[0;34m)\u001b[0m\u001b[0;34m\u001b[0m\u001b[0m\n",
      "\u001b[0;32m/opt/conda/lib/python3.6/site-packages/tqdm/_tqdm.py\u001b[0m in \u001b[0;36m__iter__\u001b[0;34m(self)\u001b[0m\n\u001b[1;32m    831\u001b[0m \"\"\", fp_write=getattr(self.fp, 'write', sys.stderr.write))\n\u001b[1;32m    832\u001b[0m \u001b[0;34m\u001b[0m\u001b[0m\n\u001b[0;32m--> 833\u001b[0;31m             \u001b[0;32mfor\u001b[0m \u001b[0mobj\u001b[0m \u001b[0;32min\u001b[0m \u001b[0miterable\u001b[0m\u001b[0;34m:\u001b[0m\u001b[0;34m\u001b[0m\u001b[0m\n\u001b[0m\u001b[1;32m    834\u001b[0m                 \u001b[0;32myield\u001b[0m \u001b[0mobj\u001b[0m\u001b[0;34m\u001b[0m\u001b[0m\n\u001b[1;32m    835\u001b[0m                 \u001b[0;31m# Update and print the progressbar.\u001b[0m\u001b[0;34m\u001b[0m\u001b[0;34m\u001b[0m\u001b[0m\n",
      "\u001b[0;32m/opt/conda/lib/python3.6/site-packages/moviepy/Clip.py\u001b[0m in \u001b[0;36mgenerator\u001b[0;34m()\u001b[0m\n\u001b[1;32m    473\u001b[0m         \u001b[0;32mdef\u001b[0m \u001b[0mgenerator\u001b[0m\u001b[0;34m(\u001b[0m\u001b[0;34m)\u001b[0m\u001b[0;34m:\u001b[0m\u001b[0;34m\u001b[0m\u001b[0m\n\u001b[1;32m    474\u001b[0m             \u001b[0;32mfor\u001b[0m \u001b[0mt\u001b[0m \u001b[0;32min\u001b[0m \u001b[0mnp\u001b[0m\u001b[0;34m.\u001b[0m\u001b[0marange\u001b[0m\u001b[0;34m(\u001b[0m\u001b[0;36m0\u001b[0m\u001b[0;34m,\u001b[0m \u001b[0mself\u001b[0m\u001b[0;34m.\u001b[0m\u001b[0mduration\u001b[0m\u001b[0;34m,\u001b[0m \u001b[0;36m1.0\u001b[0m\u001b[0;34m/\u001b[0m\u001b[0mfps\u001b[0m\u001b[0;34m)\u001b[0m\u001b[0;34m:\u001b[0m\u001b[0;34m\u001b[0m\u001b[0m\n\u001b[0;32m--> 475\u001b[0;31m                 \u001b[0mframe\u001b[0m \u001b[0;34m=\u001b[0m \u001b[0mself\u001b[0m\u001b[0;34m.\u001b[0m\u001b[0mget_frame\u001b[0m\u001b[0;34m(\u001b[0m\u001b[0mt\u001b[0m\u001b[0;34m)\u001b[0m\u001b[0;34m\u001b[0m\u001b[0m\n\u001b[0m\u001b[1;32m    476\u001b[0m                 \u001b[0;32mif\u001b[0m \u001b[0;34m(\u001b[0m\u001b[0mdtype\u001b[0m \u001b[0;32mis\u001b[0m \u001b[0;32mnot\u001b[0m \u001b[0;32mNone\u001b[0m\u001b[0;34m)\u001b[0m \u001b[0;32mand\u001b[0m \u001b[0;34m(\u001b[0m\u001b[0mframe\u001b[0m\u001b[0;34m.\u001b[0m\u001b[0mdtype\u001b[0m \u001b[0;34m!=\u001b[0m \u001b[0mdtype\u001b[0m\u001b[0;34m)\u001b[0m\u001b[0;34m:\u001b[0m\u001b[0;34m\u001b[0m\u001b[0m\n\u001b[1;32m    477\u001b[0m                     \u001b[0mframe\u001b[0m \u001b[0;34m=\u001b[0m \u001b[0mframe\u001b[0m\u001b[0;34m.\u001b[0m\u001b[0mastype\u001b[0m\u001b[0;34m(\u001b[0m\u001b[0mdtype\u001b[0m\u001b[0;34m)\u001b[0m\u001b[0;34m\u001b[0m\u001b[0m\n",
      "\u001b[0;32m<decorator-gen-138>\u001b[0m in \u001b[0;36mget_frame\u001b[0;34m(self, t)\u001b[0m\n",
      "\u001b[0;32m/opt/conda/lib/python3.6/site-packages/moviepy/decorators.py\u001b[0m in \u001b[0;36mwrapper\u001b[0;34m(f, *a, **kw)\u001b[0m\n\u001b[1;32m     87\u001b[0m         new_kw = {k: fun(v) if k in varnames else v\n\u001b[1;32m     88\u001b[0m                  for (k,v) in kw.items()}\n\u001b[0;32m---> 89\u001b[0;31m         \u001b[0;32mreturn\u001b[0m \u001b[0mf\u001b[0m\u001b[0;34m(\u001b[0m\u001b[0;34m*\u001b[0m\u001b[0mnew_a\u001b[0m\u001b[0;34m,\u001b[0m \u001b[0;34m**\u001b[0m\u001b[0mnew_kw\u001b[0m\u001b[0;34m)\u001b[0m\u001b[0;34m\u001b[0m\u001b[0m\n\u001b[0m\u001b[1;32m     90\u001b[0m     \u001b[0;32mreturn\u001b[0m \u001b[0mdecorator\u001b[0m\u001b[0;34m.\u001b[0m\u001b[0mdecorator\u001b[0m\u001b[0;34m(\u001b[0m\u001b[0mwrapper\u001b[0m\u001b[0;34m)\u001b[0m\u001b[0;34m\u001b[0m\u001b[0m\n\u001b[1;32m     91\u001b[0m \u001b[0;34m\u001b[0m\u001b[0m\n",
      "\u001b[0;32m/opt/conda/lib/python3.6/site-packages/moviepy/Clip.py\u001b[0m in \u001b[0;36mget_frame\u001b[0;34m(self, t)\u001b[0m\n\u001b[1;32m     93\u001b[0m                 \u001b[0;32mreturn\u001b[0m \u001b[0mframe\u001b[0m\u001b[0;34m\u001b[0m\u001b[0m\n\u001b[1;32m     94\u001b[0m         \u001b[0;32melse\u001b[0m\u001b[0;34m:\u001b[0m\u001b[0;34m\u001b[0m\u001b[0m\n\u001b[0;32m---> 95\u001b[0;31m             \u001b[0;32mreturn\u001b[0m \u001b[0mself\u001b[0m\u001b[0;34m.\u001b[0m\u001b[0mmake_frame\u001b[0m\u001b[0;34m(\u001b[0m\u001b[0mt\u001b[0m\u001b[0;34m)\u001b[0m\u001b[0;34m\u001b[0m\u001b[0m\n\u001b[0m\u001b[1;32m     96\u001b[0m \u001b[0;34m\u001b[0m\u001b[0m\n\u001b[1;32m     97\u001b[0m     \u001b[0;32mdef\u001b[0m \u001b[0mfl\u001b[0m\u001b[0;34m(\u001b[0m\u001b[0mself\u001b[0m\u001b[0;34m,\u001b[0m \u001b[0mfun\u001b[0m\u001b[0;34m,\u001b[0m \u001b[0mapply_to\u001b[0m\u001b[0;34m=\u001b[0m\u001b[0;34m[\u001b[0m\u001b[0;34m]\u001b[0m\u001b[0;34m,\u001b[0m \u001b[0mkeep_duration\u001b[0m\u001b[0;34m=\u001b[0m\u001b[0;32mTrue\u001b[0m\u001b[0;34m)\u001b[0m\u001b[0;34m:\u001b[0m\u001b[0;34m\u001b[0m\u001b[0m\n",
      "\u001b[0;32m/opt/conda/lib/python3.6/site-packages/moviepy/Clip.py\u001b[0m in \u001b[0;36m<lambda>\u001b[0;34m(t)\u001b[0m\n\u001b[1;32m    134\u001b[0m \u001b[0;34m\u001b[0m\u001b[0m\n\u001b[1;32m    135\u001b[0m         \u001b[0;31m#mf = copy(self.make_frame)\u001b[0m\u001b[0;34m\u001b[0m\u001b[0;34m\u001b[0m\u001b[0m\n\u001b[0;32m--> 136\u001b[0;31m         \u001b[0mnewclip\u001b[0m \u001b[0;34m=\u001b[0m \u001b[0mself\u001b[0m\u001b[0;34m.\u001b[0m\u001b[0mset_make_frame\u001b[0m\u001b[0;34m(\u001b[0m\u001b[0;32mlambda\u001b[0m \u001b[0mt\u001b[0m\u001b[0;34m:\u001b[0m \u001b[0mfun\u001b[0m\u001b[0;34m(\u001b[0m\u001b[0mself\u001b[0m\u001b[0;34m.\u001b[0m\u001b[0mget_frame\u001b[0m\u001b[0;34m,\u001b[0m \u001b[0mt\u001b[0m\u001b[0;34m)\u001b[0m\u001b[0;34m)\u001b[0m\u001b[0;34m\u001b[0m\u001b[0m\n\u001b[0m\u001b[1;32m    137\u001b[0m \u001b[0;34m\u001b[0m\u001b[0m\n\u001b[1;32m    138\u001b[0m         \u001b[0;32mif\u001b[0m \u001b[0;32mnot\u001b[0m \u001b[0mkeep_duration\u001b[0m\u001b[0;34m:\u001b[0m\u001b[0;34m\u001b[0m\u001b[0m\n",
      "\u001b[0;32m/opt/conda/lib/python3.6/site-packages/moviepy/video/VideoClip.py\u001b[0m in \u001b[0;36m<lambda>\u001b[0;34m(gf, t)\u001b[0m\n\u001b[1;32m    531\u001b[0m         \u001b[0;31m`\u001b[0m\u001b[0mget_frame\u001b[0m\u001b[0;34m(\u001b[0m\u001b[0mt\u001b[0m\u001b[0;34m)\u001b[0m\u001b[0;31m`\u001b[0m \u001b[0mby\u001b[0m \u001b[0manother\u001b[0m \u001b[0mframe\u001b[0m\u001b[0;34m,\u001b[0m\u001b[0;31m \u001b[0m\u001b[0;31m \u001b[0m\u001b[0;31m`\u001b[0m\u001b[0mimage_func\u001b[0m\u001b[0;34m(\u001b[0m\u001b[0mget_frame\u001b[0m\u001b[0;34m(\u001b[0m\u001b[0mt\u001b[0m\u001b[0;34m)\u001b[0m\u001b[0;34m)\u001b[0m\u001b[0;31m`\u001b[0m\u001b[0;34m\u001b[0m\u001b[0m\n\u001b[1;32m    532\u001b[0m         \"\"\"\n\u001b[0;32m--> 533\u001b[0;31m         \u001b[0;32mreturn\u001b[0m \u001b[0mself\u001b[0m\u001b[0;34m.\u001b[0m\u001b[0mfl\u001b[0m\u001b[0;34m(\u001b[0m\u001b[0;32mlambda\u001b[0m \u001b[0mgf\u001b[0m\u001b[0;34m,\u001b[0m \u001b[0mt\u001b[0m\u001b[0;34m:\u001b[0m \u001b[0mimage_func\u001b[0m\u001b[0;34m(\u001b[0m\u001b[0mgf\u001b[0m\u001b[0;34m(\u001b[0m\u001b[0mt\u001b[0m\u001b[0;34m)\u001b[0m\u001b[0;34m)\u001b[0m\u001b[0;34m,\u001b[0m \u001b[0mapply_to\u001b[0m\u001b[0;34m)\u001b[0m\u001b[0;34m\u001b[0m\u001b[0m\n\u001b[0m\u001b[1;32m    534\u001b[0m \u001b[0;34m\u001b[0m\u001b[0m\n\u001b[1;32m    535\u001b[0m     \u001b[0;31m# --------------------------------------------------------------\u001b[0m\u001b[0;34m\u001b[0m\u001b[0;34m\u001b[0m\u001b[0m\n",
      "\u001b[0;32m<ipython-input-262-b48adb5c1e94>\u001b[0m in \u001b[0;36mprocess_image\u001b[0;34m(image)\u001b[0m\n\u001b[1;32m     25\u001b[0m     \u001b[0mmax_line_gap\u001b[0m \u001b[0;34m=\u001b[0m \u001b[0;36m140\u001b[0m\u001b[0;34m\u001b[0m\u001b[0m\n\u001b[1;32m     26\u001b[0m \u001b[0;34m\u001b[0m\u001b[0m\n\u001b[0;32m---> 27\u001b[0;31m     \u001b[0mlines\u001b[0m \u001b[0;34m=\u001b[0m \u001b[0mhough_lines\u001b[0m\u001b[0;34m(\u001b[0m\u001b[0mmasked_image\u001b[0m\u001b[0;34m,\u001b[0m \u001b[0mrho\u001b[0m\u001b[0;34m,\u001b[0m \u001b[0mtheta\u001b[0m\u001b[0;34m,\u001b[0m \u001b[0mthreshold\u001b[0m\u001b[0;34m,\u001b[0m \u001b[0mmin_line_len\u001b[0m\u001b[0;34m,\u001b[0m \u001b[0mmax_line_gap\u001b[0m\u001b[0;34m,\u001b[0m \u001b[0mvertices\u001b[0m\u001b[0;34m)\u001b[0m\u001b[0;34m\u001b[0m\u001b[0m\n\u001b[0m\u001b[1;32m     28\u001b[0m     \u001b[0mlines_image\u001b[0m \u001b[0;34m=\u001b[0m \u001b[0mweighted_img\u001b[0m\u001b[0;34m(\u001b[0m\u001b[0mlines\u001b[0m\u001b[0;34m,\u001b[0m \u001b[0mimage\u001b[0m\u001b[0;34m)\u001b[0m\u001b[0;34m\u001b[0m\u001b[0m\n\u001b[1;32m     29\u001b[0m \u001b[0;34m\u001b[0m\u001b[0m\n",
      "\u001b[0;32m<ipython-input-260-b74026d66a88>\u001b[0m in \u001b[0;36mhough_lines\u001b[0;34m(img, rho, theta, threshold, min_line_len, max_line_gap, mask_top_y)\u001b[0m\n\u001b[1;32m    192\u001b[0m     \u001b[0mlines\u001b[0m \u001b[0;34m=\u001b[0m \u001b[0mcv2\u001b[0m\u001b[0;34m.\u001b[0m\u001b[0mHoughLinesP\u001b[0m\u001b[0;34m(\u001b[0m\u001b[0mimg\u001b[0m\u001b[0;34m,\u001b[0m \u001b[0mrho\u001b[0m\u001b[0;34m,\u001b[0m \u001b[0mtheta\u001b[0m\u001b[0;34m,\u001b[0m \u001b[0mthreshold\u001b[0m\u001b[0;34m,\u001b[0m \u001b[0mnp\u001b[0m\u001b[0;34m.\u001b[0m\u001b[0marray\u001b[0m\u001b[0;34m(\u001b[0m\u001b[0;34m[\u001b[0m\u001b[0;34m]\u001b[0m\u001b[0;34m)\u001b[0m\u001b[0;34m,\u001b[0m \u001b[0mminLineLength\u001b[0m\u001b[0;34m=\u001b[0m\u001b[0mmin_line_len\u001b[0m\u001b[0;34m,\u001b[0m \u001b[0mmaxLineGap\u001b[0m\u001b[0;34m=\u001b[0m\u001b[0mmax_line_gap\u001b[0m\u001b[0;34m)\u001b[0m\u001b[0;34m\u001b[0m\u001b[0m\n\u001b[1;32m    193\u001b[0m     \u001b[0mline_img\u001b[0m \u001b[0;34m=\u001b[0m \u001b[0mnp\u001b[0m\u001b[0;34m.\u001b[0m\u001b[0mzeros\u001b[0m\u001b[0;34m(\u001b[0m\u001b[0;34m(\u001b[0m\u001b[0mimg\u001b[0m\u001b[0;34m.\u001b[0m\u001b[0mshape\u001b[0m\u001b[0;34m[\u001b[0m\u001b[0;36m0\u001b[0m\u001b[0;34m]\u001b[0m\u001b[0;34m,\u001b[0m \u001b[0mimg\u001b[0m\u001b[0;34m.\u001b[0m\u001b[0mshape\u001b[0m\u001b[0;34m[\u001b[0m\u001b[0;36m1\u001b[0m\u001b[0;34m]\u001b[0m\u001b[0;34m,\u001b[0m \u001b[0;36m3\u001b[0m\u001b[0;34m)\u001b[0m\u001b[0;34m,\u001b[0m \u001b[0mdtype\u001b[0m\u001b[0;34m=\u001b[0m\u001b[0mnp\u001b[0m\u001b[0;34m.\u001b[0m\u001b[0muint8\u001b[0m\u001b[0;34m)\u001b[0m\u001b[0;34m\u001b[0m\u001b[0m\n\u001b[0;32m--> 194\u001b[0;31m     \u001b[0mdraw_lines\u001b[0m\u001b[0;34m(\u001b[0m\u001b[0mline_img\u001b[0m\u001b[0;34m,\u001b[0m \u001b[0mlines\u001b[0m\u001b[0;34m,\u001b[0m \u001b[0mmask_top_y\u001b[0m\u001b[0;34m)\u001b[0m\u001b[0;34m\u001b[0m\u001b[0m\n\u001b[0m\u001b[1;32m    195\u001b[0m     \u001b[0;32mreturn\u001b[0m \u001b[0mline_img\u001b[0m\u001b[0;34m\u001b[0m\u001b[0m\n\u001b[1;32m    196\u001b[0m \u001b[0;34m\u001b[0m\u001b[0m\n",
      "\u001b[0;32m<ipython-input-260-b74026d66a88>\u001b[0m in \u001b[0;36mdraw_lines\u001b[0;34m(img, lines, vertices, color, thickness)\u001b[0m\n\u001b[1;32m    130\u001b[0m     \u001b[0mright_midpt\u001b[0m \u001b[0;34m=\u001b[0m \u001b[0;34m(\u001b[0m\u001b[0mint\u001b[0m\u001b[0;34m(\u001b[0m\u001b[0msum\u001b[0m\u001b[0;34m(\u001b[0m\u001b[0mx\u001b[0m \u001b[0;32mfor\u001b[0m \u001b[0mx\u001b[0m\u001b[0;34m,\u001b[0m\u001b[0my\u001b[0m \u001b[0;32min\u001b[0m \u001b[0mright_pts_sorted\u001b[0m\u001b[0;34m)\u001b[0m\u001b[0;34m/\u001b[0m\u001b[0mlen\u001b[0m\u001b[0;34m(\u001b[0m\u001b[0mright_pts_sorted\u001b[0m\u001b[0;34m)\u001b[0m\u001b[0;34m)\u001b[0m\u001b[0;34m,\u001b[0m \u001b[0mint\u001b[0m\u001b[0;34m(\u001b[0m\u001b[0msum\u001b[0m\u001b[0;34m(\u001b[0m\u001b[0my\u001b[0m \u001b[0;32mfor\u001b[0m \u001b[0mx\u001b[0m\u001b[0;34m,\u001b[0m\u001b[0my\u001b[0m \u001b[0;32min\u001b[0m \u001b[0mright_pts_sorted\u001b[0m\u001b[0;34m)\u001b[0m\u001b[0;34m/\u001b[0m\u001b[0mlen\u001b[0m\u001b[0;34m(\u001b[0m\u001b[0mright_pts_sorted\u001b[0m\u001b[0;34m)\u001b[0m\u001b[0;34m)\u001b[0m\u001b[0;34m)\u001b[0m\u001b[0;34m\u001b[0m\u001b[0m\n\u001b[1;32m    131\u001b[0m \u001b[0;34m\u001b[0m\u001b[0m\n\u001b[0;32m--> 132\u001b[0;31m     \u001b[0mleft_bot_x\u001b[0m \u001b[0;34m=\u001b[0m \u001b[0mint\u001b[0m\u001b[0;34m(\u001b[0m\u001b[0;34m(\u001b[0m\u001b[0;34m(\u001b[0m\u001b[0mimshape\u001b[0m\u001b[0;34m[\u001b[0m\u001b[0;36m0\u001b[0m\u001b[0;34m]\u001b[0m \u001b[0;34m-\u001b[0m \u001b[0mleft_midpt\u001b[0m\u001b[0;34m[\u001b[0m\u001b[0;36m1\u001b[0m\u001b[0;34m]\u001b[0m\u001b[0;34m)\u001b[0m\u001b[0;34m/\u001b[0m\u001b[0mavg_left_slope\u001b[0m\u001b[0;34m)\u001b[0m \u001b[0;34m+\u001b[0m \u001b[0mleft_midpt\u001b[0m\u001b[0;34m[\u001b[0m\u001b[0;36m0\u001b[0m\u001b[0;34m]\u001b[0m\u001b[0;34m)\u001b[0m\u001b[0;34m\u001b[0m\u001b[0m\n\u001b[0m\u001b[1;32m    133\u001b[0m     \u001b[0mleft_top_x\u001b[0m \u001b[0;34m=\u001b[0m \u001b[0mint\u001b[0m\u001b[0;34m(\u001b[0m\u001b[0;34m(\u001b[0m\u001b[0;34m(\u001b[0m\u001b[0mmask_topY\u001b[0m \u001b[0;34m-\u001b[0m \u001b[0mleft_midpt\u001b[0m\u001b[0;34m[\u001b[0m\u001b[0;36m1\u001b[0m\u001b[0;34m]\u001b[0m\u001b[0;34m)\u001b[0m\u001b[0;34m/\u001b[0m\u001b[0mavg_left_slope\u001b[0m\u001b[0;34m)\u001b[0m \u001b[0;34m+\u001b[0m \u001b[0mleft_midpt\u001b[0m\u001b[0;34m[\u001b[0m\u001b[0;36m0\u001b[0m\u001b[0;34m]\u001b[0m\u001b[0;34m)\u001b[0m\u001b[0;34m\u001b[0m\u001b[0m\n\u001b[1;32m    134\u001b[0m     \u001b[0mright_bot_x\u001b[0m \u001b[0;34m=\u001b[0m \u001b[0mint\u001b[0m\u001b[0;34m(\u001b[0m\u001b[0;34m(\u001b[0m\u001b[0;34m(\u001b[0m\u001b[0mimshape\u001b[0m\u001b[0;34m[\u001b[0m\u001b[0;36m0\u001b[0m\u001b[0;34m]\u001b[0m \u001b[0;34m-\u001b[0m \u001b[0mright_midpt\u001b[0m\u001b[0;34m[\u001b[0m\u001b[0;36m1\u001b[0m\u001b[0;34m]\u001b[0m\u001b[0;34m)\u001b[0m\u001b[0;34m/\u001b[0m\u001b[0mavg_right_slope\u001b[0m\u001b[0;34m)\u001b[0m \u001b[0;34m+\u001b[0m \u001b[0mright_midpt\u001b[0m\u001b[0;34m[\u001b[0m\u001b[0;36m0\u001b[0m\u001b[0;34m]\u001b[0m\u001b[0;34m)\u001b[0m\u001b[0;34m\u001b[0m\u001b[0m\n",
      "\u001b[0;31mOverflowError\u001b[0m: cannot convert float infinity to integer"
     ]
    }
   ],
   "source": [
    "challenge_output = 'test_videos_output/challenge.mp4'\n",
    "## To speed up the testing process you may want to try your pipeline on a shorter subclip of the video\n",
    "## To do so add .subclip(start_second,end_second) to the end of the line below\n",
    "## Where start_second and end_second are integer values representing the start and end of the subclip\n",
    "## You may also uncomment the following line for a subclip of the first 5 seconds\n",
    "##clip3 = VideoFileClip('test_videos/challenge.mp4').subclip(0,5)\n",
    "clip3 = VideoFileClip('test_videos/challenge.mp4')\n",
    "challenge_clip = clip3.fl_image(process_image)\n",
    "%time challenge_clip.write_videofile(challenge_output, audio=False)"
   ]
  },
  {
   "cell_type": "code",
   "execution_count": null,
   "metadata": {
    "collapsed": true
   },
   "outputs": [],
   "source": [
    "HTML(\"\"\"\n",
    "<video width=\"960\" height=\"540\" controls>\n",
    "  <source src=\"{0}\">\n",
    "</video>\n",
    "\"\"\".format(challenge_output))"
   ]
  }
 ],
 "metadata": {
  "anaconda-cloud": {},
  "kernelspec": {
   "display_name": "Python 3",
   "language": "python",
   "name": "python3"
  },
  "language_info": {
   "codemirror_mode": {
    "name": "ipython",
    "version": 3
   },
   "file_extension": ".py",
   "mimetype": "text/x-python",
   "name": "python",
   "nbconvert_exporter": "python",
   "pygments_lexer": "ipython3",
   "version": "3.6.3"
  }
 },
 "nbformat": 4,
 "nbformat_minor": 1
}
